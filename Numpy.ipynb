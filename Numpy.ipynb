{
 "cells": [
  {
   "cell_type": "code",
   "execution_count": 1,
   "id": "c4665e99",
   "metadata": {},
   "outputs": [],
   "source": [
    "import numpy as np"
   ]
  },
  {
   "cell_type": "code",
   "execution_count": 3,
   "id": "de0e429c",
   "metadata": {},
   "outputs": [
    {
     "name": "stdout",
     "output_type": "stream",
     "text": [
      "list type <class 'list'>\n",
      "array1 type <class 'numpy.ndarray'>\n",
      "array1 array 형태 (3,)\n",
      "array2 type <class 'numpy.ndarray'>\n",
      "array2 array 형태 (2, 3)\n",
      "array3 type <class 'numpy.ndarray'>\n",
      "array3 array 형태 (1, 3)\n"
     ]
    }
   ],
   "source": [
    "list1 = [1, 2, 3]\n",
    "print('list type', type(list1))\n",
    "array1 = np.array(list1)\n",
    "#array1 = np.array([1, 2, 3])\n",
    "print('array1 type', type(array1))\n",
    "print('array1 array 형태', array1.shape)\n",
    "\n",
    "array2 = np.array([[1, 2, 3],\n",
    "                  [2, 3, 4]])\n",
    "print('array2 type', type(array2))\n",
    "print('array2 array 형태', array2.shape)\n",
    "\n",
    "array3 = np.array([[1, 2, 3]])\n",
    "print('array3 type', type(array3))\n",
    "print('array3 array 형태', array3.shape)\n"
   ]
  },
  {
   "cell_type": "markdown",
   "id": "f25bc65f",
   "metadata": {},
   "source": [
    "#### ndarray 의 데이터 타입"
   ]
  },
  {
   "cell_type": "code",
   "execution_count": 4,
   "id": "b236dfca",
   "metadata": {},
   "outputs": [
    {
     "name": "stdout",
     "output_type": "stream",
     "text": [
      "<class 'list'>\n",
      "<class 'numpy.ndarray'>\n",
      "[1 2 3] int32\n"
     ]
    }
   ],
   "source": [
    "list1 = [1, 2, 3]\n",
    "print(type(list1))\n",
    "array1 = np.array(list1)\n",
    "print(type(array1))\n",
    "print(array1, array1.dtype)"
   ]
  },
  {
   "cell_type": "code",
   "execution_count": 6,
   "id": "3de5cf16",
   "metadata": {},
   "outputs": [
    {
     "name": "stdout",
     "output_type": "stream",
     "text": [
      "['1' '2' 'test'] <U11\n",
      "[1. 2. 3.] float64\n"
     ]
    }
   ],
   "source": [
    "list2 = [1, 2, 'test']\n",
    "array2 = np.array(list2)\n",
    "print(array2, array2.dtype)\n",
    "\n",
    "list3 = [1, 2, 3.0]\n",
    "array3 = np.array(list3)\n",
    "print(array3, array3.dtype)"
   ]
  },
  {
   "cell_type": "code",
   "execution_count": 9,
   "id": "95422b10",
   "metadata": {},
   "outputs": [
    {
     "name": "stdout",
     "output_type": "stream",
     "text": [
      "[1. 2. 3.] float64\n",
      "[1 2 3] int32\n",
      "[1 2 3] int32\n"
     ]
    }
   ],
   "source": [
    "array_int = np.array([1, 2, 3])\n",
    "array_float = array_int.astype('float64') # array_int.astype(np.float64)\n",
    "print(array_float, array_float.dtype)\n",
    "\n",
    "array_int1 = array_float.astype('int32')\n",
    "print(array_int1, array_int1.dtype)\n",
    "\n",
    "array_float1 = np.array([1.1, 2.1, 3.1])\n",
    "array_int2 = array_float1.astype('int32')\n",
    "print(array_int2, array_int2.dtype)"
   ]
  },
  {
   "cell_type": "code",
   "execution_count": 12,
   "id": "e16f5394",
   "metadata": {},
   "outputs": [
    {
     "name": "stdout",
     "output_type": "stream",
     "text": [
      "[0 1 2 3 4 5 6 7 8 9]\n",
      "int32 (10,)\n"
     ]
    }
   ],
   "source": [
    "sequence_array = np.arange(10)\n",
    "print(sequence_array)\n",
    "print(sequence_array.dtype, sequence_array.shape)"
   ]
  },
  {
   "cell_type": "code",
   "execution_count": 15,
   "id": "a3caaf30",
   "metadata": {},
   "outputs": [
    {
     "name": "stdout",
     "output_type": "stream",
     "text": [
      "[[0. 0.]\n",
      " [0. 0.]\n",
      " [0. 0.]]\n",
      "float64 (3, 2)\n",
      "[[1. 1.]\n",
      " [1. 1.]\n",
      " [1. 1.]]\n",
      "float64 (3, 2)\n"
     ]
    }
   ],
   "source": [
    "#(3, 2) shape를 가지는 모든 원소가 0, dtype은 int32인 ndarray 생성\n",
    "zero_array = np.zeros((3, 2))\n",
    "print(zero_array)\n",
    "print(zero_array.dtype, zero_array.shape)\n",
    "\n",
    "#{3, 2} shape를 가지는 모든 원소가 1인 ndarray 생성.\n",
    "one_array = np.ones((3, 2))\n",
    "print(one_array)\n",
    "print(one_array.dtype, one_array.shape)\n"
   ]
  },
  {
   "cell_type": "markdown",
   "id": "baff07bf",
   "metadata": {},
   "source": [
    "### ndarray의 차원과 크기를 변경하는 reshape"
   ]
  },
  {
   "cell_type": "code",
   "execution_count": 18,
   "id": "e27cd054",
   "metadata": {},
   "outputs": [
    {
     "name": "stdout",
     "output_type": "stream",
     "text": [
      "array1:\n",
      " [0 1 2 3 4 5 6 7 8 9]\n",
      "array2:\n",
      " [[0 1 2 3 4]\n",
      " [5 6 7 8 9]]\n",
      "array3:\n",
      " [[0 1]\n",
      " [2 3]\n",
      " [4 5]\n",
      " [6 7]\n",
      " [8 9]]\n"
     ]
    }
   ],
   "source": [
    "array1 = np.arange(10)\n",
    "print('array1:\\n', array1)\n",
    "\n",
    "#(2, 5) shape로 변환\n",
    "array2 = array1.reshape(2, 5)\n",
    "print('array2:\\n', array2)\n",
    "\n",
    "#(5, 2) shape로 변환\n",
    "array3 = array1.reshape(5, 2)\n",
    "print('array3:\\n', array3)"
   ]
  },
  {
   "cell_type": "markdown",
   "id": "c770dd1a",
   "metadata": {},
   "source": [
    "### 넘파이 ndarray의 데이터 세트 선택하기 - indexing\n",
    "\n",
    "- 단일 인덱싱"
   ]
  },
  {
   "cell_type": "code",
   "execution_count": 19,
   "id": "2a1e6d2d",
   "metadata": {},
   "outputs": [
    {
     "name": "stdout",
     "output_type": "stream",
     "text": [
      "array1 [1 2 3 4 5 6 7 8 9]\n",
      "value 3\n",
      "<class 'numpy.int32'>\n"
     ]
    }
   ],
   "source": [
    "# 1에서부터 9까지의 1차원 ndarray 생성\n",
    "array1 = np.arange(start=1, stop=10)\n",
    "print('array1', array1)\n",
    "# index 는 0부터 시작하므로 array1[2]는 3번째 index 위치의 데이터 값을 의미\n",
    "value = array1[2]\n",
    "print('value', value)\n",
    "print(type(value))"
   ]
  },
  {
   "cell_type": "code",
   "execution_count": 20,
   "id": "ae51ac0b",
   "metadata": {},
   "outputs": [
    {
     "name": "stdout",
     "output_type": "stream",
     "text": [
      "맨 뒤의 값 9 , 맨 뒤에서 두번째 값: 8\n"
     ]
    }
   ],
   "source": [
    "print('맨 뒤의 값', array1[-1], ', 맨 뒤에서 두번째 값:', array1[-2])"
   ]
  },
  {
   "cell_type": "code",
   "execution_count": 21,
   "id": "d9595b8f",
   "metadata": {},
   "outputs": [
    {
     "name": "stdout",
     "output_type": "stream",
     "text": [
      "array1 [9 2 3 4 5 6 7 8 0]\n"
     ]
    }
   ],
   "source": [
    "array1[0] = 9\n",
    "array1[8] = 0\n",
    "print('array1', array1)"
   ]
  },
  {
   "cell_type": "code",
   "execution_count": 22,
   "id": "356ee01a",
   "metadata": {},
   "outputs": [
    {
     "name": "stdout",
     "output_type": "stream",
     "text": [
      "(row=0, col=0) index 가리키는 값 1\n",
      "(row=0, col=1) index 가리키는 값 2\n",
      "(row=1, col=0) index 가리키는 값 4\n",
      "(row=2, col=2) index 가리키는 값 9\n"
     ]
    }
   ],
   "source": [
    "array1d = np.arange(start=1, stop=10)\n",
    "array2d = array1d.reshape(3,3)\n",
    "\n",
    "print('(row=0, col=0) index 가리키는 값', array2d[0,0])\n",
    "print('(row=0, col=1) index 가리키는 값', array2d[0,1])\n",
    "print('(row=1, col=0) index 가리키는 값', array2d[1,0])\n",
    "print('(row=2, col=2) index 가리키는 값', array2d[2,2])"
   ]
  },
  {
   "cell_type": "markdown",
   "id": "5af670db",
   "metadata": {},
   "source": [
    "- 슬라이싱 인덱싱"
   ]
  },
  {
   "cell_type": "code",
   "execution_count": null,
   "id": "bf1fa517",
   "metadata": {},
   "outputs": [],
   "source": []
  }
 ],
 "metadata": {
  "kernelspec": {
   "display_name": "Python 3 (ipykernel)",
   "language": "python",
   "name": "python3"
  },
  "language_info": {
   "codemirror_mode": {
    "name": "ipython",
    "version": 3
   },
   "file_extension": ".py",
   "mimetype": "text/x-python",
   "name": "python",
   "nbconvert_exporter": "python",
   "pygments_lexer": "ipython3",
   "version": "3.9.12"
  }
 },
 "nbformat": 4,
 "nbformat_minor": 5
}
